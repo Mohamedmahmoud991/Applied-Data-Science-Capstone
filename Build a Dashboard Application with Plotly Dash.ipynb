{
 "cells": [
  {
   "cell_type": "markdown",
   "id": "f3898d1a",
   "metadata": {},
   "source": [
    "# SpaceX Launch Analysis Dashboard"
   ]
  },
  {
   "cell_type": "markdown",
   "id": "bbd8fc5d",
   "metadata": {},
   "source": [
    "![](https://cf-courses-data.s3.us.cloud-object-storage.appdomain.cloud/IBMDeveloperSkillsNetwork-DS0701EN-SkillsNetwork/api/Images/landing_1.gif)\n",
    "\n"
   ]
  },
  {
   "cell_type": "markdown",
   "id": "34488fd0",
   "metadata": {},
   "source": [
    "![](https://cf-courses-data.s3.us.cloud-object-storage.appdomain.cloud/IBMDeveloperSkillsNetwork-DS0701EN-SkillsNetwork/api/Images/crash.gif)"
   ]
  },
  {
   "cell_type": "code",
   "execution_count": 1,
   "id": "31f0eb58",
   "metadata": {},
   "outputs": [],
   "source": [
    "import dash\n",
    "from dash import dcc, html\n",
    "from dash.dependencies import Input, Output\n",
    "import plotly.graph_objs as go\n",
    "import plotly.express as px\n",
    "import pandas as pd"
   ]
  },
  {
   "cell_type": "code",
   "execution_count": 2,
   "id": "88dd7c77",
   "metadata": {},
   "outputs": [],
   "source": [
    "# Load the SpaceX launch dataset\n",
    "spacex_df = pd.read_csv('spacex_launch_dash.csv')"
   ]
  },
  {
   "cell_type": "code",
   "execution_count": 3,
   "id": "bfe73acd",
   "metadata": {},
   "outputs": [],
   "source": [
    "# Create a Dash app\n",
    "app = dash.Dash(__name__)\n",
    "\n",
    "# Define the layout of the app\n",
    "app.layout = html.Div([\n",
    "    dcc.Dropdown(\n",
    "        id='site-dropdown',\n",
    "        options=[\n",
    "            {'label': 'All Sites', 'value': 'ALL'},\n",
    "            {'label': 'CCAFS LC-40', 'value': 'CCAFS LC-40'},\n",
    "            {'label': 'VAFB SLC-4E', 'value': 'VAFB SLC-4E'},\n",
    "            {'label': 'KSC LC-39A', 'value': 'KSC LC-39A'},\n",
    "            {'label': 'CCAFS SLC-40', 'value': 'CCAFS SLC-40'}\n",
    "        ],\n",
    "        value='ALL',\n",
    "        placeholder=\"Select a Launch Site here\",\n",
    "        searchable=True\n",
    "    ),\n",
    "    \n",
    "    dcc.RangeSlider(\n",
    "        id='payload-slider',\n",
    "        min=0,\n",
    "        max=10000,\n",
    "        step=1000,\n",
    "        marks={0: '0', 10000: '10000'},\n",
    "        value=[0, 10000]\n",
    "    ),\n",
    "    \n",
    "    dcc.Graph(id='success-pie-chart'),\n",
    "    \n",
    "    dcc.Graph(id='success-payload-scatter-chart')\n",
    "])\n"
   ]
  },
  {
   "cell_type": "code",
   "execution_count": 4,
   "id": "2ee04ada",
   "metadata": {},
   "outputs": [],
   "source": [
    "# Define the callback function for the pie chart\n",
    "@app.callback(\n",
    "    Output(component_id='success-pie-chart', component_property='figure'),\n",
    "    [Input(component_id='site-dropdown', component_property='value')]\n",
    ")\n",
    "def get_pie_chart(entered_site):\n",
    "    if entered_site == 'ALL':\n",
    "        all_sites_success_counts = spacex_df['class'].sum()\n",
    "        all_sites_failure_counts = len(spacex_df) - all_sites_success_counts\n",
    "        fig = go.Figure(data=[go.Pie(labels=['Success', 'Failure'], values=[all_sites_success_counts, all_sites_failure_counts])])\n",
    "        fig.update_layout(title='Total Success and Failure Counts for All Sites')\n",
    "        return fig\n",
    "    else:\n",
    "        site_df = spacex_df[spacex_df['Launch Site'] == entered_site]\n",
    "        site_success_counts = site_df['class'].sum()\n",
    "        site_failure_counts = len(site_df) - site_success_counts\n",
    "        fig = go.Figure(data=[go.Pie(labels=['Success', 'Failure'], values=[site_success_counts, site_failure_counts])])\n",
    "        fig.update_layout(title=f'Success and Failure Counts for {entered_site}')\n",
    "        return fig\n",
    "\n"
   ]
  },
  {
   "cell_type": "code",
   "execution_count": 5,
   "id": "ada03a61",
   "metadata": {},
   "outputs": [],
   "source": [
    "# Define the callback function for the scatter chart\n",
    "@app.callback(\n",
    "    Output(component_id='success-payload-scatter-chart', component_property='figure'),\n",
    "    [Input(component_id='site-dropdown', component_property='value'), \n",
    "     Input(component_id=\"payload-slider\", component_property=\"value\")]\n",
    ")\n",
    "def update_scatter_chart(selected_site, payload_range):\n",
    "    if selected_site == 'ALL':\n",
    "        filtered_df = spacex_df[(spacex_df['Payload Mass (kg)'] >= payload_range[0]) & \n",
    "                                (spacex_df['Payload Mass (kg)'] <= payload_range[1])]\n",
    "        fig = px.scatter(filtered_df, x='Payload Mass (kg)', y='class', color='Booster Version Category',\n",
    "                         title='Correlation between Payload and Mission Outcome for All Sites',\n",
    "                         labels={'class': 'Mission Outcome', 'Payload Mass (kg)': 'Payload Mass (kg)',\n",
    "                                 'Booster Version Category': 'Booster Version'})\n",
    "        return fig\n",
    "    else:\n",
    "        filtered_df = spacex_df[(spacex_df['Launch Site'] == selected_site) & \n",
    "                                (spacex_df['Payload Mass (kg)'] >= payload_range[0]) & \n",
    "                                (spacex_df['Payload Mass (kg)'] <= payload_range[1])]\n",
    "        fig = px.scatter(filtered_df, x='Payload Mass (kg)', y='class', color='Booster Version Category',\n",
    "                         title=f'Correlation between Payload and Mission Outcome for {selected_site}',\n",
    "                         labels={'class': 'Mission Outcome', 'Payload Mass (kg)': 'Payload Mass (kg)',\n",
    "                                 'Booster Version Category': 'Booster Version'})\n",
    "        return fig"
   ]
  },
  {
   "cell_type": "code",
   "execution_count": 6,
   "id": "61d947de",
   "metadata": {},
   "outputs": [
    {
     "data": {
      "text/html": [
       "\n",
       "        <iframe\n",
       "            width=\"100%\"\n",
       "            height=\"650\"\n",
       "            src=\"http://127.0.0.1:8050/\"\n",
       "            frameborder=\"0\"\n",
       "            allowfullscreen\n",
       "            \n",
       "        ></iframe>\n",
       "        "
      ],
      "text/plain": [
       "<IPython.lib.display.IFrame at 0x2407fca5810>"
      ]
     },
     "metadata": {},
     "output_type": "display_data"
    }
   ],
   "source": [
    "# Run the app\n",
    "if __name__ == '__main__':\n",
    "    app.run_server(debug=True)"
   ]
  },
  {
   "cell_type": "markdown",
   "id": "b5b08128",
   "metadata": {},
   "source": [
    "# ** CREATED BY : MOHAMED MAHMOUD **"
   ]
  }
 ],
 "metadata": {
  "kernelspec": {
   "display_name": "Python 3 (ipykernel)",
   "language": "python",
   "name": "python3"
  },
  "language_info": {
   "codemirror_mode": {
    "name": "ipython",
    "version": 3
   },
   "file_extension": ".py",
   "mimetype": "text/x-python",
   "name": "python",
   "nbconvert_exporter": "python",
   "pygments_lexer": "ipython3",
   "version": "3.11.5"
  }
 },
 "nbformat": 4,
 "nbformat_minor": 5
}
